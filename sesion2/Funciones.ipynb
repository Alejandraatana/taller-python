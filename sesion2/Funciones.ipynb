{
 "cells": [
  {
   "cell_type": "markdown",
   "metadata": {},
   "source": [
    "# funciones\n",
    "\n",
    "Bueno, este tema es sencillo pero tiene algunas diferencias con otros lenguajes, veamos:"
   ]
  },
  {
   "cell_type": "code",
   "execution_count": 1,
   "metadata": {
    "collapsed": true
   },
   "outputs": [],
   "source": [
    "def AleAle():\n",
    "    print(\"AleAle\")"
   ]
  },
  {
   "cell_type": "code",
   "execution_count": 2,
   "metadata": {
    "collapsed": false
   },
   "outputs": [
    {
     "name": "stdout",
     "output_type": "stream",
     "text": [
      "AleAle\n"
     ]
    }
   ],
   "source": [
    "AleAle()"
   ]
  },
  {
   "cell_type": "markdown",
   "metadata": {},
   "source": [
    "Para la declaracion utiliza la palabra reservada \"def\" seguida del nombre la funcion entre parentesis van los argumentos de la funcion y termina con dos puntos ':' "
   ]
  },
  {
   "cell_type": "code",
   "execution_count": 12,
   "metadata": {
    "collapsed": true
   },
   "outputs": [],
   "source": [
    "def beto(argumento):\n",
    "    print(argumento)\n",
    "    return argumento"
   ]
  },
  {
   "cell_type": "markdown",
   "metadata": {},
   "source": [
    "> Nota como no se utilizan tipos en ningun lado"
   ]
  },
  {
   "cell_type": "code",
   "execution_count": 13,
   "metadata": {
    "collapsed": false
   },
   "outputs": [
    {
     "name": "stdout",
     "output_type": "stream",
     "text": [
      "12\n"
     ]
    },
    {
     "data": {
      "text/plain": [
       "12"
      ]
     },
     "execution_count": 13,
     "metadata": {},
     "output_type": "execute_result"
    }
   ],
   "source": [
    "hola=12\n",
    "beto(hola)"
   ]
  },
  {
   "cell_type": "code",
   "execution_count": 14,
   "metadata": {
    "collapsed": false
   },
   "outputs": [
    {
     "name": "stdout",
     "output_type": "stream",
     "text": [
      "adios\n"
     ]
    }
   ],
   "source": [
    "adios=\"adios\"\n",
    "hola = beto(adios)"
   ]
  },
  {
   "cell_type": "markdown",
   "metadata": {},
   "source": [
    "Entonces es muy sencillo escribir funciones genericas, pero eso es un tema un poquito mas avanzado, pero essa es la idea"
   ]
  },
  {
   "cell_type": "code",
   "execution_count": 15,
   "metadata": {
    "collapsed": false
   },
   "outputs": [
    {
     "name": "stdout",
     "output_type": "stream",
     "text": [
      "adios\n"
     ]
    }
   ],
   "source": [
    "print(hola)"
   ]
  },
  {
   "cell_type": "markdown",
   "metadata": {},
   "source": [
    "Ahora escribimos una pequeña funcion que te sera util:"
   ]
  },
  {
   "cell_type": "code",
   "execution_count": 16,
   "metadata": {
    "collapsed": true
   },
   "outputs": [],
   "source": [
    "def divLin(linea):\n",
    "    '''\n",
    "    Separa la linea en sus partes en un formato adecuado para ser ensamblado despues\n",
    "    regresa una lista\n",
    "    '''\n",
    "    linea=linea.lower()\n",
    "    linea=linea.replace(',', ' ')\n",
    "    linea=linea.split()\n",
    "    return linea"
   ]
  },
  {
   "cell_type": "code",
   "execution_count": 17,
   "metadata": {
    "collapsed": true
   },
   "outputs": [],
   "source": [
    "linea=\"Suma: Addcc %R1,%r2, %r1 !Comentario\""
   ]
  },
  {
   "cell_type": "code",
   "execution_count": 18,
   "metadata": {
    "collapsed": false
   },
   "outputs": [
    {
     "data": {
      "text/plain": [
       "['suma:', 'addcc', '%r1', '%r2', '%r1', '!comentario']"
      ]
     },
     "execution_count": 18,
     "metadata": {},
     "output_type": "execute_result"
    }
   ],
   "source": [
    "divLin(linea)"
   ]
  },
  {
   "cell_type": "markdown",
   "metadata": {},
   "source": [
    "Lo que esta entre las comillas triples es un comentario de la funcion y se despliega cuando pides ayuda sobre la funcion o metodo:"
   ]
  },
  {
   "cell_type": "code",
   "execution_count": 19,
   "metadata": {
    "collapsed": false
   },
   "outputs": [
    {
     "name": "stdout",
     "output_type": "stream",
     "text": [
      "Help on function divLin in module __main__:\n",
      "\n",
      "divLin(linea)\n",
      "    Separa la linea en sus partes en un formato adecuado para ser ensamblado despues\n",
      "\n"
     ]
    }
   ],
   "source": [
    "help(divLin)"
   ]
  },
  {
   "cell_type": "markdown",
   "metadata": {},
   "source": [
    "Genial, no? ahora solo como cosa curiosa, esta funcion se puede escribir mas facil si llevas el control de los metodos y los encadenas, observa:"
   ]
  },
  {
   "cell_type": "code",
   "execution_count": 20,
   "metadata": {
    "collapsed": true
   },
   "outputs": [],
   "source": [
    "def divLin2(linea):\n",
    "    '''\n",
    "    Separa la linea en sus partes en un formato adecuado para ser ensamblado despues\n",
    "    regresa una lista (version 2)\n",
    "    '''\n",
    "    return linea.lower().replace(',', ' ').split()"
   ]
  },
  {
   "cell_type": "code",
   "execution_count": 21,
   "metadata": {
    "collapsed": false
   },
   "outputs": [
    {
     "data": {
      "text/plain": [
       "['suma:', 'addcc', '%r1', '%r2', '%r1', '!comentario']"
      ]
     },
     "execution_count": 21,
     "metadata": {},
     "output_type": "execute_result"
    }
   ],
   "source": [
    "divLin2(linea)"
   ]
  },
  {
   "cell_type": "markdown",
   "metadata": {},
   "source": [
    "Las funciones pueden tomar varios argumentos serparados por comas e incluso tomar algun valor por default, observa la siguiente funcion:"
   ]
  },
  {
   "cell_type": "code",
   "execution_count": 22,
   "metadata": {
    "collapsed": true
   },
   "outputs": [],
   "source": [
    "def ale(bebida='el mezcal',mascota='ppan'):\n",
    "    print('mi bebida favorita es '+ bebida)\n",
    "    print('mi mascota favorita es '+ mascota)"
   ]
  },
  {
   "cell_type": "code",
   "execution_count": 23,
   "metadata": {
    "collapsed": false
   },
   "outputs": [
    {
     "name": "stdout",
     "output_type": "stream",
     "text": [
      "mi bebida favorita es mezcal\n",
      "mi mascota favorita es ppan\n"
     ]
    }
   ],
   "source": [
    "ale()"
   ]
  },
  {
   "cell_type": "code",
   "execution_count": 25,
   "metadata": {
    "collapsed": false
   },
   "outputs": [
    {
     "name": "stdout",
     "output_type": "stream",
     "text": [
      "mi bebida favorita es el chocolate caliente\n",
      "mi mascota favorita es Hydra\n"
     ]
    }
   ],
   "source": [
    "ale('el chocolate caliente','Hydra')"
   ]
  },
  {
   "cell_type": "markdown",
   "metadata": {},
   "source": [
    "Recuerda que si tienes dudas me puedes preguntar"
   ]
  }
 ],
 "metadata": {
  "kernelspec": {
   "display_name": "Python 3",
   "language": "python",
   "name": "python3"
  },
  "language_info": {
   "codemirror_mode": {
    "name": "ipython",
    "version": 3
   },
   "file_extension": ".py",
   "mimetype": "text/x-python",
   "name": "python",
   "nbconvert_exporter": "python",
   "pygments_lexer": "ipython3",
   "version": "3.5.3"
  }
 },
 "nbformat": 4,
 "nbformat_minor": 2
}
