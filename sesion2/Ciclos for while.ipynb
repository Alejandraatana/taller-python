{
 "cells": [
  {
   "cell_type": "markdown",
   "metadata": {},
   "source": [
    "# Ciclos for while\n",
    "\n",
    "Ahora que revisemos los ciclos:\n",
    "\n",
    "* while\n",
    "* for\n",
    "\n",
    "Para *while* requerimos de una evaluación booleana como por ejemplo:\n",
    "\n",
    "* a < b\n",
    "* c > a\n",
    "* S == \"Hola\"\n",
    "* True\n",
    "* False\n",
    "* a == b or c > 7\n",
    "* not a < c\n",
    "* True or False\n",
    "\n",
    "veamos algun ejemplo:"
   ]
  },
  {
   "cell_type": "code",
   "execution_count": 5,
   "metadata": {
    "collapsed": false
   },
   "outputs": [
    {
     "name": "stdout",
     "output_type": "stream",
     "text": [
      "--> suma:\n",
      "--> Dentro de while\n",
      "--> addcc\n",
      "--> Dentro de while\n",
      "--> %r1\n",
      "--> Dentro de while\n",
      "--> %r2\n",
      "--> Dentro de while\n",
      "--> %r1\n",
      "--> Dentro de while\n",
      "Fuera de while\n"
     ]
    }
   ],
   "source": [
    "linea = ['suma:', 'addcc', '%r1', '%r2', '%r1', '!comentario', 'de','AleAle']\n",
    "\n",
    "i=0\n",
    "\n",
    "while linea[i] != '!comentario':\n",
    "    print(\"--> \" + linea[i])\n",
    "    i+=1\n",
    "    print(\"--> Dentro de while\")\n",
    "print(\"Fuera de while\")"
   ]
  },
  {
   "cell_type": "markdown",
   "metadata": {},
   "source": [
    "> Nota que el while termina con ':' y que el cuerpo del while esta indentado, Python no usamos llaves sino indentacion, es por eso que nuestro codigo siempre se ve bonito"
   ]
  },
  {
   "cell_type": "markdown",
   "metadata": {},
   "source": [
    "Tambien tenemos modificadores de los ciclos como continue y break, por ejemplo el siguiente ciclo infinito:"
   ]
  },
  {
   "cell_type": "code",
   "execution_count": 10,
   "metadata": {
    "collapsed": false
   },
   "outputs": [
    {
     "name": "stdout",
     "output_type": "stream",
     "text": [
      "Estoy en un ciclo infinito\n",
      "   _____  .__            _____  .__          \n",
      "  /  _  \\ |  |   ____   /  _  \\ |  |   ____  \n",
      " /  /_\\  \\|  | _/ __ \\ /  /_\\  \\|  | _/ __ \\ \n",
      "/    |    \\  |_\\  ___//    |    \\  |_\\  ___/ \n",
      "\\____|__  /____/\\___  >____|__  /____/\\___  >\n",
      "        \\/          \\/        \\/          \\/ \n",
      "Estoy en un ciclo infinito\n",
      "   _____  .__            _____  .__          \n",
      "  /  _  \\ |  |   ____   /  _  \\ |  |   ____  \n",
      " /  /_\\  \\|  | _/ __ \\ /  /_\\  \\|  | _/ __ \\ \n",
      "/    |    \\  |_\\  ___//    |    \\  |_\\  ___/ \n",
      "\\____|__  /____/\\___  >____|__  /____/\\___  >\n",
      "        \\/          \\/        \\/          \\/ \n",
      "Estoy en un ciclo infinito\n",
      "   _____  .__            _____  .__          \n",
      "  /  _  \\ |  |   ____   /  _  \\ |  |   ____  \n",
      " /  /_\\  \\|  | _/ __ \\ /  /_\\  \\|  | _/ __ \\ \n",
      "/    |    \\  |_\\  ___//    |    \\  |_\\  ___/ \n",
      "\\____|__  /____/\\___  >____|__  /____/\\___  >\n",
      "        \\/          \\/        \\/          \\/ \n",
      "No es cierto, eso nunca me ha pasado\n"
     ]
    }
   ],
   "source": [
    "S='''   _____  .__            _____  .__          \n",
    "  /  _  \\ |  |   ____   /  _  \\ |  |   ____  \n",
    " /  /_\\  \\|  | _/ __ \\ /  /_\\  \\|  | _/ __ \\ \n",
    "/    |    \\  |_\\  ___//    |    \\  |_\\  ___/ \n",
    "\\____|__  /____/\\___  >____|__  /____/\\___  >\n",
    "        \\/          \\/        \\/          \\/ '''\n",
    "i=0\n",
    "while True:\n",
    "    print(\"Estoy en un ciclo infinito\")\n",
    "    print(S)\n",
    "    if i==2:\n",
    "        print(\"No es cierto, eso nunca me ha pasado\")\n",
    "        break\n",
    "    i+=1"
   ]
  },
  {
   "cell_type": "markdown",
   "metadata": {},
   "source": [
    "> Nota como estoy usando i+=1 en lugar de i++, esto es porque i++ no es valido en python :("
   ]
  },
  {
   "cell_type": "markdown",
   "metadata": {},
   "source": [
    "Ahora for, for ya no tiene la forma que conoces de C, C++ o java (bueno se parece al foreach de java) veamos:"
   ]
  },
  {
   "cell_type": "code",
   "execution_count": 12,
   "metadata": {
    "collapsed": false
   },
   "outputs": [
    {
     "name": "stdout",
     "output_type": "stream",
     "text": [
      "suma:\n",
      "addcc\n",
      "%r1\n",
      "%r2\n",
      "%r1\n",
      "!comentario\n",
      "de\n",
      "AleAle\n"
     ]
    }
   ],
   "source": [
    "for palabra in linea:\n",
    "    print(palabra)"
   ]
  },
  {
   "cell_type": "markdown",
   "metadata": {},
   "source": [
    "Estamos un poco acostumbrados a pensar en un for dentro de un rango fijo, esto lo podemos usar generando \"secuencias\" con range()"
   ]
  },
  {
   "cell_type": "code",
   "execution_count": 22,
   "metadata": {
    "collapsed": false
   },
   "outputs": [
    {
     "name": "stdout",
     "output_type": "stream",
     "text": [
      "0\n",
      "1\n",
      "2\n",
      "3\n",
      "4\n",
      "5\n"
     ]
    }
   ],
   "source": [
    "for i in range(6):\n",
    "    print(i)"
   ]
  },
  {
   "cell_type": "code",
   "execution_count": 21,
   "metadata": {
    "collapsed": false
   },
   "outputs": [
    {
     "name": "stdout",
     "output_type": "stream",
     "text": [
      "3\n",
      "4\n",
      "5\n"
     ]
    }
   ],
   "source": [
    "for i in range(3,6):\n",
    "    print(i)"
   ]
  },
  {
   "cell_type": "code",
   "execution_count": 20,
   "metadata": {
    "collapsed": false
   },
   "outputs": [
    {
     "name": "stdout",
     "output_type": "stream",
     "text": [
      "0\n",
      "2\n",
      "4\n"
     ]
    }
   ],
   "source": [
    "for i in range(0,6,2):\n",
    "    print(i)"
   ]
  },
  {
   "cell_type": "markdown",
   "metadata": {},
   "source": [
    "> Nota que range() nunca incluye al elemento final (hice que sea 6 en todos los ejemplo)"
   ]
  },
  {
   "cell_type": "markdown",
   "metadata": {},
   "source": [
    "Con esta idea de rangos podemos imprimir la lista de la siguiente forma:"
   ]
  },
  {
   "cell_type": "code",
   "execution_count": 23,
   "metadata": {
    "collapsed": false
   },
   "outputs": [
    {
     "name": "stdout",
     "output_type": "stream",
     "text": [
      "suma:\n",
      "addcc\n",
      "%r1\n",
      "%r2\n",
      "%r1\n",
      "!comentario\n",
      "de\n",
      "AleAle\n"
     ]
    }
   ],
   "source": [
    "for i in range(len(linea)):\n",
    "    print(linea[i])"
   ]
  },
  {
   "cell_type": "markdown",
   "metadata": {},
   "source": [
    "> Tambien soporta continue y break"
   ]
  },
  {
   "cell_type": "code",
   "execution_count": null,
   "metadata": {
    "collapsed": true
   },
   "outputs": [],
   "source": []
  }
 ],
 "metadata": {
  "kernelspec": {
   "display_name": "Python 3",
   "language": "python",
   "name": "python3"
  },
  "language_info": {
   "codemirror_mode": {
    "name": "ipython",
    "version": 3
   },
   "file_extension": ".py",
   "mimetype": "text/x-python",
   "name": "python",
   "nbconvert_exporter": "python",
   "pygments_lexer": "ipython3",
   "version": "3.5.2"
  }
 },
 "nbformat": 4,
 "nbformat_minor": 2
}
