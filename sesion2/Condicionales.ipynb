{
 "cells": [
  {
   "cell_type": "markdown",
   "metadata": {},
   "source": [
    "# condicionales\n",
    "\n",
    "Nuestra condicional favorita es if <3\n",
    "\n",
    "empecemos:"
   ]
  },
  {
   "cell_type": "code",
   "execution_count": 2,
   "metadata": {
    "collapsed": false
   },
   "outputs": [
    {
     "name": "stdout",
     "output_type": "stream",
     "text": [
      ";-)\n"
     ]
    }
   ],
   "source": [
    "if 'Ale' + 'Ale' == \"AleAle\":\n",
    "    print(\";-)\")"
   ]
  },
  {
   "cell_type": "markdown",
   "metadata": {},
   "source": [
    "> Nota como la linea del if termina en ':' y que no usamos llaves sino indentacion para delimitar el if/elif/else"
   ]
  },
  {
   "cell_type": "code",
   "execution_count": 3,
   "metadata": {
    "collapsed": false
   },
   "outputs": [
    {
     "name": "stdout",
     "output_type": "stream",
     "text": [
      "PPAN\n"
     ]
    }
   ],
   "source": [
    "a = 1\n",
    "b = 3\n",
    "if 'Ale' + 'Ale' == \"AleAle\" and b < a:\n",
    "    print(\"Falso\")\n",
    "else:\n",
    "    print(\"PPAN\")"
   ]
  },
  {
   "cell_type": "markdown",
   "metadata": {},
   "source": [
    "> else tambien termina en ':'"
   ]
  },
  {
   "cell_type": "code",
   "execution_count": 6,
   "metadata": {
    "collapsed": false
   },
   "outputs": [
    {
     "name": "stdout",
     "output_type": "stream",
     "text": [
      "wooo se quieren\n"
     ]
    }
   ],
   "source": [
    "betoEsCool=True\n",
    "if 'Ale' + 'Ale' == \"AleAle\" and b < a:\n",
    "    print(\"Falso\")\n",
    "elif \"Se quieren\" != \"addcc\":\n",
    "    print(\"wooo se quieren\")\n",
    "elif betoEsCool:\n",
    "    print(\"wooo se quieren\")\n",
    "else:\n",
    "    print(\"PPAN\")"
   ]
  },
  {
   "cell_type": "markdown",
   "metadata": {},
   "source": [
    "> elif tambien termina en ':'\n",
    "\n",
    "Es muy sencillo incluir condicionales dentro de otros tomando en cuenta la indentacion, veamos:"
   ]
  },
  {
   "cell_type": "code",
   "execution_count": 7,
   "metadata": {
    "collapsed": false
   },
   "outputs": [
    {
     "name": "stdout",
     "output_type": "stream",
     "text": [
      "Super facil esto\n"
     ]
    }
   ],
   "source": [
    "if a < b:\n",
    "    if 'Ale' + 'Ale' == \"AleAle\":\n",
    "        if betoEsCool:\n",
    "            print(\"Super facil esto\")"
   ]
  },
  {
   "cell_type": "markdown",
   "metadata": {},
   "source": [
    "Muy bien, ya con estructuras de datos(listas, diccionarios), ciclos y condicionales estamos listos para ensamblar una linea, preparemos todo:\n"
   ]
  },
  {
   "cell_type": "code",
   "execution_count": 20,
   "metadata": {
    "collapsed": true
   },
   "outputs": [],
   "source": [
    "registros={'%r0':'00000','%r1':'00001','%r2':'00010','%r3':'00011','%r4':'00100'}\n",
    "nmonicos={'addcc':('01','010000'),'orcc':('01','010010'),'andcc':('01','010001'),'ld':('11','00000')}\n",
    "SimTab={}\n",
    "#linea a ensamblar\n",
    "linea = ['suma:', 'addcc', '%r1', '%r2', '%r1', '!comentario', 'de','AleAle']"
   ]
  },
  {
   "cell_type": "markdown",
   "metadata": {},
   "source": [
    "Lo primero que tenemos que hacer es limpiar nuestra linea de todo lo que se incluye en la instruccion ensamblada"
   ]
  },
  {
   "cell_type": "code",
   "execution_count": 21,
   "metadata": {
    "collapsed": false
   },
   "outputs": [
    {
     "data": {
      "text/plain": [
       "['suma:', 'addcc', '%r1', '%r2', '%r1', '!comentario', 'de', 'AleAle']"
      ]
     },
     "execution_count": 21,
     "metadata": {},
     "output_type": "execute_result"
    }
   ],
   "source": [
    "linea"
   ]
  },
  {
   "cell_type": "markdown",
   "metadata": {},
   "source": [
    "En este caso serian la etiqueta suma y el comentario, hay que iniciar con las etiquetas"
   ]
  },
  {
   "cell_type": "code",
   "execution_count": 22,
   "metadata": {
    "collapsed": false
   },
   "outputs": [],
   "source": [
    "tmp=None\n",
    "if linea[0].endswith(':'):\n",
    "    tmp=linea.pop(0)\n",
    "SimTab[tmp.strip(':')]='Direccion de memoria actual'"
   ]
  },
  {
   "cell_type": "markdown",
   "metadata": {},
   "source": [
    "SimTab viene de tabla de simbolos, es una tabla donde guardas las etiquetas y las variables para poder substituirlas al momento de ensamblar, despues platicamos mas de ella, solo piensa que es importante guardar ambas etiquetas y variables.\n",
    "\n",
    "None tiene el mismo uso que NULL, sirve para decir que la variable no tiene valor ni tipo aun."
   ]
  },
  {
   "cell_type": "code",
   "execution_count": 23,
   "metadata": {
    "collapsed": false
   },
   "outputs": [
    {
     "data": {
      "text/plain": [
       "['addcc', '%r1', '%r2', '%r1', '!comentario', 'de', 'AleAle']"
      ]
     },
     "execution_count": 23,
     "metadata": {},
     "output_type": "execute_result"
    }
   ],
   "source": [
    "linea"
   ]
  },
  {
   "cell_type": "markdown",
   "metadata": {},
   "source": [
    "Lo siguiente es quitar los comentarios, ahora usaremos un ciclo for y condicionales"
   ]
  },
  {
   "cell_type": "code",
   "execution_count": 29,
   "metadata": {
    "collapsed": false
   },
   "outputs": [],
   "source": [
    "comentario=None\n",
    "for palabra in linea:\n",
    "    if palabra.startswith('!'):\n",
    "        comentario=palabra\n",
    "        break\n",
    "if comentario != None: #si hay comentario\n",
    "    linea=linea[:linea.index(comentario)] # regresame todo a la izq del comentario sin incluirlo ;-)"
   ]
  },
  {
   "cell_type": "code",
   "execution_count": 30,
   "metadata": {
    "collapsed": false
   },
   "outputs": [
    {
     "data": {
      "text/plain": [
       "['addcc', '%r1', '%r2', '%r1']"
      ]
     },
     "execution_count": 30,
     "metadata": {},
     "output_type": "execute_result"
    }
   ],
   "source": [
    "linea"
   ]
  },
  {
   "cell_type": "markdown",
   "metadata": {},
   "source": [
    "Ahora ya podemos retomar el ensamblado que vimos en Diccionarios y con unos ajustes:"
   ]
  },
  {
   "cell_type": "code",
   "execution_count": 31,
   "metadata": {
    "collapsed": true
   },
   "outputs": [],
   "source": [
    "op, op3 = nmonicos[linea[0]]\n",
    "rd=registros[linea[3]]\n",
    "rs1=registros[linea[1]]\n",
    "rs2=registros[linea[2]]\n",
    "biti='000000000'"
   ]
  },
  {
   "cell_type": "markdown",
   "metadata": {},
   "source": [
    "Ya solo concatenamos estas cadenas:"
   ]
  },
  {
   "cell_type": "code",
   "execution_count": 32,
   "metadata": {
    "collapsed": false
   },
   "outputs": [
    {
     "data": {
      "text/plain": [
       "'01000010100000000100000000000010'"
      ]
     },
     "execution_count": 32,
     "metadata": {},
     "output_type": "execute_result"
    }
   ],
   "source": [
    "op + rd + op3 + rs1 + biti + rs2"
   ]
  },
  {
   "cell_type": "markdown",
   "metadata": {},
   "source": [
    "De momento solo hemos escrito operaciones aritmeticas y sabemos que no todas las instrucciones tienen el mismo formato, entonces: como sabremos cual usar???\n",
    "\n",
    "Muy facil lo decidiremos conforme el codigo de operacion op y el nmonico.\n",
    "Ya tienes las piezas necesarias para armar el ensamblador en python, para que ademas tu codigo tenga estilo y este bien diseñado debemos aprender funciones."
   ]
  }
 ],
 "metadata": {
  "kernelspec": {
   "display_name": "Python 3",
   "language": "python",
   "name": "python3"
  },
  "language_info": {
   "codemirror_mode": {
    "name": "ipython",
    "version": 3
   },
   "file_extension": ".py",
   "mimetype": "text/x-python",
   "name": "python",
   "nbconvert_exporter": "python",
   "pygments_lexer": "ipython3",
   "version": "3.5.3"
  }
 },
 "nbformat": 4,
 "nbformat_minor": 2
}
