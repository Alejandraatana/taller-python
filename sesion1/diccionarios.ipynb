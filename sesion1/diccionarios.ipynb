{
 "cells": [
  {
   "cell_type": "markdown",
   "metadata": {},
   "source": [
    "# Diccionarios\n",
    "\n",
    "Los diccionarios son \"tablas hash\", es decir asocian un valor llave (_key_) con otro valor (_value_), y poder buscarlas muy rapido (De hecho no las buscas, ya sabes donde estan, por eso es rapido) y son muy utiles cuando necesitas \"traducir\" algo como en nuestro caso, los diccionarios se peuden definir de varias formas:"
   ]
  },
  {
   "cell_type": "code",
   "execution_count": 14,
   "metadata": {
    "collapsed": false
   },
   "outputs": [
    {
     "data": {
      "text/plain": [
       "dict"
      ]
     },
     "execution_count": 14,
     "metadata": {},
     "output_type": "execute_result"
    }
   ],
   "source": [
    "nmonicos={'addcc':('01','010000'),'orcc':('01','010010'),'andcc':('01','010001'),'ld':('11','00000')}\n",
    "type(nmonicos)"
   ]
  },
  {
   "cell_type": "markdown",
   "metadata": {},
   "source": [
    "En la forma anterior usamos llaves y valores separados por el caracter dos puntos, cada par llave-valor se separa con el caracter coma (',')"
   ]
  },
  {
   "cell_type": "code",
   "execution_count": 3,
   "metadata": {
    "collapsed": false
   },
   "outputs": [
    {
     "data": {
      "text/plain": [
       "dict"
      ]
     },
     "execution_count": 3,
     "metadata": {},
     "output_type": "execute_result"
    }
   ],
   "source": [
    "op={}\n",
    "type(op)"
   ]
  },
  {
   "cell_type": "markdown",
   "metadata": {},
   "source": [
    "Lo anterior define un diccionario vacio, pero no hay problema, le podemos agregar/modificar elementos de la siguiente forma:"
   ]
  },
  {
   "cell_type": "code",
   "execution_count": 4,
   "metadata": {
    "collapsed": false
   },
   "outputs": [
    {
     "data": {
      "text/plain": [
       "'AleAle'"
      ]
     },
     "execution_count": 4,
     "metadata": {},
     "output_type": "execute_result"
    }
   ],
   "source": [
    "op[2]='AleAle'\n",
    "op[2]"
   ]
  },
  {
   "cell_type": "markdown",
   "metadata": {},
   "source": [
    "Tambien podemos crear un diccionario con su constructor dict() que puede ser o no vacio, cuando no es vacio requiere una lista de tuplas, veamos:"
   ]
  },
  {
   "cell_type": "code",
   "execution_count": 6,
   "metadata": {
    "collapsed": false
   },
   "outputs": [
    {
     "data": {
      "text/plain": [
       "{'hello': 3.14, 1: 9, 'a': 'world'}"
      ]
     },
     "execution_count": 6,
     "metadata": {},
     "output_type": "execute_result"
    }
   ],
   "source": [
    "lista=[(1,9),('hello',3.14),('a','world')]\n",
    "mydic=dict(lista)\n",
    "mydic"
   ]
  },
  {
   "cell_type": "markdown",
   "metadata": {},
   "source": [
    "Es importante que veas que ni las llaves (_keys_) ni los valores (_values_) tienen el mismo tipo, ahora revisemos algunos metodos utiles para nuestros propositos:\n",
    "\n",
    "* D.values(): Regresa los valores\n",
    "* D.keys():: Regresa las llaves\n",
    "* val in D : Pregunta si val esta en los valores de D\n",
    "* val not in D: Pregunta si val *NO* esta en los valores de D \n",
    "* k in D.keys(): Pregunta si k esta en las llaves de D\n",
    "* k not in D.keys(): Pregunta si kl *NO* esta en los llaves de D\n",
    "\n",
    "> Puedes encontrar mas metodos utiles en [aqui](https://docs.python.org/3/library/stdtypes.html#typesmapping)\n",
    "\n",
    "Retomando nuestra linea de ensamblador que ya es una lista como esta '['addcc', '%r1', '%r2', '%r1']' (asi quedo con nuestro manejo de cadenas)"
   ]
  },
  {
   "cell_type": "code",
   "execution_count": 12,
   "metadata": {
    "collapsed": false
   },
   "outputs": [
    {
     "data": {
      "text/plain": [
       "['suma:', 'addcc', '%r1', '%r2', '%r1', '!comentario']"
      ]
     },
     "execution_count": 12,
     "metadata": {},
     "output_type": "execute_result"
    }
   ],
   "source": [
    "linea=['suma:', 'addcc', '%r1', '%r2', '%r1', '!comentario']\n",
    "linea"
   ]
  },
  {
   "cell_type": "markdown",
   "metadata": {
    "collapsed": true
   },
   "source": [
    "Crearemos un diccionario para tener los valores equivalentes de los registros, solo como ejemplo, te toca hacer el tuyo"
   ]
  },
  {
   "cell_type": "code",
   "execution_count": 13,
   "metadata": {
    "collapsed": false
   },
   "outputs": [
    {
     "data": {
      "text/plain": [
       "{'%r0': '00000',\n",
       " '%r1': '00001',\n",
       " '%r2': '00010',\n",
       " '%r3': '00011',\n",
       " '%r4': '00100'}"
      ]
     },
     "execution_count": 13,
     "metadata": {},
     "output_type": "execute_result"
    }
   ],
   "source": [
    "registros={'%r0':'00000','%r1':'00001','%r2':'00010','%r3':'00011','%r4':'00100'}\n",
    "registros"
   ]
  },
  {
   "cell_type": "markdown",
   "metadata": {},
   "source": [
    "Ahora podemos preguntar si alguna llave esta presente en nuestros diccionarios, en linea[0] tenemos una etiqueta, esta no aparecera en nuestro diccionario de nmonicos, pero linea[1] que tiene addcc si aparece"
   ]
  },
  {
   "cell_type": "code",
   "execution_count": 15,
   "metadata": {
    "collapsed": false
   },
   "outputs": [
    {
     "data": {
      "text/plain": [
       "False"
      ]
     },
     "execution_count": 15,
     "metadata": {},
     "output_type": "execute_result"
    }
   ],
   "source": [
    "linea[0] in nmonicos.keys()"
   ]
  },
  {
   "cell_type": "code",
   "execution_count": 16,
   "metadata": {
    "collapsed": false
   },
   "outputs": [
    {
     "data": {
      "text/plain": [
       "True"
      ]
     },
     "execution_count": 16,
     "metadata": {},
     "output_type": "execute_result"
    }
   ],
   "source": [
    "linea[1] in nmonicos.keys()"
   ]
  },
  {
   "cell_type": "markdown",
   "metadata": {},
   "source": [
    "ahora los registros, buscamos %r1 que esta en linea[2]"
   ]
  },
  {
   "cell_type": "code",
   "execution_count": 18,
   "metadata": {
    "collapsed": false
   },
   "outputs": [
    {
     "data": {
      "text/plain": [
       "True"
      ]
     },
     "execution_count": 18,
     "metadata": {},
     "output_type": "execute_result"
    }
   ],
   "source": [
    "linea[2] in registros.keys()"
   ]
  },
  {
   "cell_type": "markdown",
   "metadata": {},
   "source": [
    "Sucede lo mismo con %r2, entonces observa como podemos ir juntando (concatenado) las cadenas de una manera sencilla ahora que sabemos que cosas estan presentes y donde:\n"
   ]
  },
  {
   "cell_type": "code",
   "execution_count": 23,
   "metadata": {
    "collapsed": true
   },
   "outputs": [],
   "source": [
    "op, op3 = nmonicos[linea[1]] #Nota que beto es muy listo y junto el op y op3 en el mismo diccionario y los saca asi porque es pro\n",
    "rd=registros[linea[4]]\n",
    "rs1=registros[linea[2]]\n",
    "rs2=registros[linea[3]]\n",
    "biti='000000000'"
   ]
  },
  {
   "cell_type": "code",
   "execution_count": 24,
   "metadata": {
    "collapsed": false
   },
   "outputs": [
    {
     "data": {
      "text/plain": [
       "'01000010100000000100000000000010'"
      ]
     },
     "execution_count": 24,
     "metadata": {},
     "output_type": "execute_result"
    }
   ],
   "source": [
    "op + rd + op3 + rs1 + biti + rs2"
   ]
  },
  {
   "cell_type": "markdown",
   "metadata": {},
   "source": [
    "Este ya es codigo ensamblado y por eso amamos los diccionarios <3"
   ]
  },
  {
   "cell_type": "markdown",
   "metadata": {},
   "source": [
    "Lo ideal es que puedas decidir que elementos estan presentes preguntando a cada uno de los elementos de linea, para esto usaremos ciclos y seleccion, sera excelente idea que esta traduccion o ensamblado sea una funcion\n",
    "\n",
    "> nota que deberas llevar un diccionario (si lo prefieres, dos) para llevar un registro de las variables (que se convertiran en el simm13) y las etiquetas (que llevan la direccion de la instruccion)"
   ]
  }
 ],
 "metadata": {
  "kernelspec": {
   "display_name": "Python 3",
   "language": "python",
   "name": "python3"
  },
  "language_info": {
   "codemirror_mode": {
    "name": "ipython",
    "version": 3
   },
   "file_extension": ".py",
   "mimetype": "text/x-python",
   "name": "python",
   "nbconvert_exporter": "python",
   "pygments_lexer": "ipython3",
   "version": "3.5.2"
  }
 },
 "nbformat": 4,
 "nbformat_minor": 2
}
