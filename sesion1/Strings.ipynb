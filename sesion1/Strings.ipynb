{
 "cells": [
  {
   "cell_type": "markdown",
   "metadata": {},
   "source": [
    "# Strings\n",
    "\n",
    "Es importante poder tomar cadenas comvertirlas en partes, subcadenas manejables para nuestros propositos, los siguientes metodos seran de gran utilidad:\n",
    "\n",
    "* S.lower()\n",
    "* S.replace()\n",
    "* S.split()\n",
    "* S.startswith()\n",
    "* S.endswith()\n",
    "\n",
    "> Hay muchos metodos muy utiles, pero con estos basta para el ensamblador, si tienes dudas revisa: [metodos de cadena](https://docs.python.org/3/library/stdtypes.html#string-methods)\n",
    "\n",
    "Supongamos que recibes las siguiente cadena \"Addcc %R1,%r2,%r1\"\n",
    "\n",
    "La idea es separarla de tal manera que la puedas traducir cada termino a su correspondiente contraparte binaria, algo que veremos en diccionarios:"
   ]
  },
  {
   "cell_type": "code",
   "execution_count": 1,
   "metadata": {
    "collapsed": false
   },
   "outputs": [
    {
     "data": {
      "text/plain": [
       "str"
      ]
     },
     "execution_count": 1,
     "metadata": {},
     "output_type": "execute_result"
    }
   ],
   "source": [
    "linea=\"Suma: Addcc %R1,%r2, %r1 !Comentario\"\n",
    "type(linea)"
   ]
  },
  {
   "cell_type": "markdown",
   "metadata": {},
   "source": [
    "La cadena linea es nuestra unidad de trabajo, pero tiene mezcladas cosas que no deseamos como mayusculas y espacios, asi que primero la convertiremos a minusculas."
   ]
  },
  {
   "cell_type": "code",
   "execution_count": 2,
   "metadata": {
    "collapsed": false
   },
   "outputs": [
    {
     "data": {
      "text/plain": [
       "'suma: addcc %r1,%r2, %r1 !comentario'"
      ]
     },
     "execution_count": 2,
     "metadata": {},
     "output_type": "execute_result"
    }
   ],
   "source": [
    "linea.lower()"
   ]
  },
  {
   "cell_type": "code",
   "execution_count": 3,
   "metadata": {
    "collapsed": false
   },
   "outputs": [
    {
     "data": {
      "text/plain": [
       "'Suma: Addcc %R1,%r2, %r1 !Comentario'"
      ]
     },
     "execution_count": 3,
     "metadata": {},
     "output_type": "execute_result"
    }
   ],
   "source": [
    "linea"
   ]
  },
  {
   "cell_type": "markdown",
   "metadata": {},
   "source": [
    "Recuerda que las cadenas son inmutables, entonces para mantener el resultado debemos volver a asignar el valor a linea"
   ]
  },
  {
   "cell_type": "code",
   "execution_count": 4,
   "metadata": {
    "collapsed": false
   },
   "outputs": [
    {
     "data": {
      "text/plain": [
       "'suma: addcc %r1,%r2, %r1 !comentario'"
      ]
     },
     "execution_count": 4,
     "metadata": {},
     "output_type": "execute_result"
    }
   ],
   "source": [
    "linea=linea.lower()\n",
    "linea"
   ]
  },
  {
   "cell_type": "markdown",
   "metadata": {},
   "source": [
    "El siguiente paso es quitar elementos que no nos sirven como por ejemplo las comas, mismas que reemplazamos con espacios para que despues esa linea la podamos separar."
   ]
  },
  {
   "cell_type": "code",
   "execution_count": 5,
   "metadata": {
    "collapsed": false
   },
   "outputs": [
    {
     "data": {
      "text/plain": [
       "'suma: addcc %r1 %r2  %r1 !comentario'"
      ]
     },
     "execution_count": 5,
     "metadata": {},
     "output_type": "execute_result"
    }
   ],
   "source": [
    "linea=linea.replace(',', ' ')\n",
    "linea"
   ]
  },
  {
   "cell_type": "markdown",
   "metadata": {},
   "source": [
    "Notemos ahora hay muchos mas espacios de los que nos gustaria, pero split() es un chico fuerte y se ata las sandalias solito ;)"
   ]
  },
  {
   "cell_type": "code",
   "execution_count": 6,
   "metadata": {
    "collapsed": false
   },
   "outputs": [
    {
     "data": {
      "text/plain": [
       "['suma:', 'addcc', '%r1', '%r2', '%r1', '!comentario']"
      ]
     },
     "execution_count": 6,
     "metadata": {},
     "output_type": "execute_result"
    }
   ],
   "source": [
    "linea=linea.split()\n",
    "linea"
   ]
  },
  {
   "cell_type": "markdown",
   "metadata": {},
   "source": [
    "Ahora tenemos una lista con cada instruccion en un formato estandar :) que es lo que queriamos, esto hay que hacerlo para cada linea. Lo mejor es meter todas estas operaciones dentro de una funcion, pero eso te lo dejo a ti.\n",
    "\n",
    "> Nota: Puedes identificar un comentario usando startswith(!) o una etiqueta con endswith()"
   ]
  },
  {
   "cell_type": "code",
   "execution_count": 7,
   "metadata": {
    "collapsed": false
   },
   "outputs": [
    {
     "data": {
      "text/plain": [
       "True"
      ]
     },
     "execution_count": 7,
     "metadata": {},
     "output_type": "execute_result"
    }
   ],
   "source": [
    "linea[0].endswith(':')"
   ]
  },
  {
   "cell_type": "code",
   "execution_count": 9,
   "metadata": {
    "collapsed": false
   },
   "outputs": [
    {
     "data": {
      "text/plain": [
       "True"
      ]
     },
     "execution_count": 9,
     "metadata": {},
     "output_type": "execute_result"
    }
   ],
   "source": [
    "linea[-1].startswith('!')"
   ]
  }
 ],
 "metadata": {
  "kernelspec": {
   "display_name": "Python 3",
   "language": "python",
   "name": "python3"
  },
  "language_info": {
   "codemirror_mode": {
    "name": "ipython",
    "version": 3
   },
   "file_extension": ".py",
   "mimetype": "text/x-python",
   "name": "python",
   "nbconvert_exporter": "python",
   "pygments_lexer": "ipython3",
   "version": "3.5.2"
  }
 },
 "nbformat": 4,
 "nbformat_minor": 2
}
